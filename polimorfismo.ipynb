{
  "nbformat": 4,
  "nbformat_minor": 0,
  "metadata": {
    "colab": {
      "provenance": []
    },
    "kernelspec": {
      "name": "python3",
      "display_name": "Python 3"
    },
    "language_info": {
      "name": "python"
    }
  },
  "cells": [
    {
      "cell_type": "code",
      "execution_count": 4,
      "metadata": {
        "colab": {
          "base_uri": "https://localhost:8080/"
        },
        "id": "Q4KMSYNiE1pn",
        "outputId": "f2c10cc0-92c9-4a4c-eca6-cf5c95fed199"
      },
      "outputs": [
        {
          "output_type": "stream",
          "name": "stdout",
          "text": [
            "Custo de viagem para Carro: 100.0\n",
            "Custo de viagem para Bicicleta: 20.0\n",
            "Custo de viagem para Caminhao: 200.0\n",
            "Custo de viagem para cada veículo [100.  20. 200.]\n",
            "Custo total da viagem 320.0\n"
          ]
        }
      ],
      "source": [
        "import numpy as np\n",
        "from abc import ABC, abstractmethod\n",
        "\n",
        "class Veiculo(ABC):\n",
        "    @abstractmethod\n",
        "    def calcular_custo(self, distancia):\n",
        "      pass\n",
        "\n",
        "class Carro(Veiculo):\n",
        "    def calcular_custo(self, distancia):\n",
        "        return distancia * 0.5\n",
        "\n",
        "class Bicicleta(Veiculo):\n",
        "    def calcular_custo(self, distancia):\n",
        "        return distancia * 0.1\n",
        "\n",
        "class Caminhao(Veiculo):\n",
        "    def calcular_custo(self, distancia):\n",
        "        return distancia * 1.0\n",
        "\n",
        "\n",
        "veiculos = [Carro(), Bicicleta(), Caminhao()]\n",
        "distancia= 200\n",
        "\n",
        "custos = np.array([veiculo.calcular_custo(distancia) for veiculo in veiculos])\n",
        "\n",
        "for veiculo in veiculos:\n",
        "    custo = veiculo.calcular_custo(distancia)\n",
        "    print(f\"Custo de viagem para {type(veiculo).__name__}: {custo}\")\n",
        "\n",
        "print(\"Custo de viagem para cada veículo\", custos)\n",
        "print(\"Custo total da viagem\", np.sum(custos))"
      ]
    }
  ]
}